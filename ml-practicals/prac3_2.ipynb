{
 "cells": [
  {
   "cell_type": "markdown",
   "metadata": {},
   "source": [
    " Implement Linear regression to predict house prices using gradient descent algorithm. (use  homeprice_uni.csv)"
   ]
  },
  {
   "cell_type": "code",
   "execution_count": 56,
   "metadata": {},
   "outputs": [],
   "source": [
    "import pandas as pd\n",
    "import numpy as np\n",
    "from sklearn.linear_model import LinearRegression\n",
    "import math"
   ]
  },
  {
   "cell_type": "code",
   "execution_count": 57,
   "metadata": {},
   "outputs": [],
   "source": [
    "def predict_using_sklearn(): \n",
    "   df = pd.read_csv(\"homeprices_uni.csv\") \n",
    "   r = LinearRegression() \n",
    "   r.fit(df[['area']],df['price']) \n",
    "   return r.coef_, r.intercept_\n",
    "\n",
    "def gradient_descent(x,y): \n",
    "    m_curr = 0 \n",
    "    b_curr = 0 \n",
    "    iterations = 1000000 \n",
    "    n = len(x) \n",
    "    learning_rate = 0.0002\n",
    "    cost_previous = 0\n",
    "\n",
    "    for i in range(iterations):\n",
    "         y_predicted = m_curr * x + b_curr\n",
    "         cost = (1/n)*sum([value**2 for value in (y-y_predicted)])\n",
    "         md = -(2/n)*sum(x*(y-y_predicted))\n",
    "         bd = -(2/n)*sum(y-y_predicted)\n",
    "         m_curr = m_curr - learning_rate * md\n",
    "         b_curr = b_curr - learning_rate * bd\n",
    "         if math.isclose(cost, cost_previous, rel_tol=1e-20):\n",
    "             break\n",
    "         cost_previous = cost\n",
    "         print (\"m: {}, b: {}, cost: {}, iteration: {}\".format(m_curr,b_curr,cost, i))\n",
    "     \n",
    "    return m_curr, b_curr"
   ]
  },
  {
   "cell_type": "code",
   "execution_count": 58,
   "metadata": {},
   "outputs": [
    {
     "name": "stdout",
     "output_type": "stream",
     "text": [
      "m: 834000.0, b: 250.4, cost: 396370000000.0, iteration: 0\n",
      "m: -3665263528.5248003, b: -1093707.30016, cost: 7.642075538004978e+18, iteration: 1\n",
      "m: 16111767687633.297, b: 4807732730.007299, cost: 1.4766829239639752e+26, iteration: 2\n",
      "m: -7.08241147082098e+16, b: -21133833396287.566, cost: 2.853403433836221e+33, iteration: 3\n",
      "m: 3.1132867116193894e+20, b: 9.290011311730859e+16, cost: 5.513648884333526e+40, iteration: 4\n",
      "m: -1.3685386945785997e+24, b: -4.083703536113919e+20, cost: 1.06540574176155e+48, iteration: 5\n",
      "m: 6.015822929410513e+27, b: 1.795114560281653e+24, cost: 2.058690022507091e+55, iteration: 6\n",
      "m: -2.644435678829304e+31, b: -7.890965286872137e+27, cost: 3.9780193053613233e+62, iteration: 7\n",
      "m: 1.1624411392292502e+35, b: 3.468710829733971e+31, cost: 7.686751002249482e+69, iteration: 8\n",
      "m: -5.1098592149187995e+38, b: -1.524776042334236e+35, cost: 1.485315591378625e+77, iteration: 9\n",
      "m: 2.2461921137446226e+42, b: 6.7026111238415486e+38, cost: 2.8700843898115265e+84, iteration: 10\n",
      "m: -9.873812172981191e+45, b: -2.9463340602250064e+42, cost: 5.545881597455063e+91, iteration: 11\n",
      "m: 4.3403307415581007e+49, b: 1.2951496415424725e+46, cost: 1.0716340886063794e+99, iteration: 12\n",
      "m: -1.907922757297743e+53, b: -5.693219301342542e+49, cost: 2.070725095159284e+106, iteration: 13\n",
      "m: 8.386847603479794e+56, b: 2.5026255633732768e+53, cost: 4.001274749759672e+113, iteration: 14\n",
      "m: -3.686690797882122e+60, b: -1.1001042431252343e+57, cost: 7.731687639509099e+120, iteration: 15\n",
      "m: 1.6205956852666998e+64, b: 4.835838662619916e+60, cost: 1.4939987252444544e+128, iteration: 16\n",
      "m: -7.123815147757391e+67, b: -2.125738148637195e+64, cost: 2.8868628624187045e+135, iteration: 17\n",
      "m: 3.1314869415480397e+71, b: 9.344320586004321e+67, cost: 5.57830274256002e+142, iteration: 18\n",
      "m: -1.3765391523631734e+75, b: -4.1075768090252517e+71, cost: 1.0778988462784639e+150, iteration: 19\n",
      "m: 6.050991344872115e+78, b: 1.8056087745226533e+75, cost: 2.0828305246753856e+157, iteration: 20\n",
      "m: -2.6598950122747556e+82, b: -7.937095757941204e+78, cost: 4.024666145155906e+164, iteration: 21\n",
      "m: 1.1692367536304334e+86, b: 3.488988864012516e+82, cost: 7.776886975712336e+171, iteration: 22\n",
      "m: -5.139731379363998e+89, b: -1.533689861436282e+86, cost: 1.5027326205876214e+179, iteration: 23\n",
      "m: 2.259323320960937e+93, b: 6.741794493340074e+89, cost: 2.9037394217386027e+186, iteration: 24\n",
      "m: -9.931534338803527e+96, b: -2.9635582873231955e+93, cost: 5.610913421219102e+193, iteration: 25\n",
      "m: 4.365704253470102e+100, b: 1.3027210679646223e+97, cost: 1.0842002276349827e+201, iteration: 26\n",
      "m: -1.9190764466573924e+104, b: -5.726501780573238e+100, cost: 2.0950067223606256e+208, iteration: 27\n",
      "m: 8.4358769955336e+107, b: 2.5172558768965127e+104, cost: 4.048194286317632e+215, iteration: 28\n",
      "m: -3.7082431399606314e+111, b: -1.1065354369165538e+108, cost: 7.82235054659351e+222, iteration: 29\n",
      "m: 1.6300696646413437e+115, b: 4.864108906805606e+111, cost: 1.5115175741590065e+230, iteration: 30\n",
      "m: -7.165460870001508e+118, b: -2.138165183683119e+115, cost: 2.9207146411847605e+237, iteration: 31\n",
      "m: 3.149793569762536e+122, b: 9.39894735152437e+118, cost: 5.643714741442785e+244, iteration: 32\n",
      "m: -1.3845863807104048e+126, b: -4.1315896447511886e+122, cost: 1.0905384467774757e+252, iteration: 33\n",
      "m: 6.086365354391359e+129, b: 1.816164337791162e+126, cost: 2.107254101924715e+259, iteration: 34\n",
      "m: -2.675444720764115e+133, b: -7.983495907089407e+129, cost: 4.071859972658647e+266, iteration: 35\n",
      "m: 1.1760720950969562e+137, b: 3.5093854433916467e+133, cost: 7.868079896864774e+273, iteration: 36\n",
      "m: -5.169778176058571e+140, b: -1.5426557905982854e+137, cost: 1.5203538844442816e+281, iteration: 37\n",
      "m: 2.2725312930282664e+144, b: 6.781206928260563e+140, cost: 2.9377890975228633e+288, iteration: 38\n",
      "m: -9.989593947588003e+147, b: -2.9808832070085363e+144, cost: 5.676707817718933e+295, iteration: 39\n",
      "m: 4.3912260985726115e+151, b: 1.3103367568381735e+148, cost: 1.096913719059115e+303, iteration: 40\n",
      "m: -1.930295340326731e+155, b: -5.759978828705132e+151, cost: inf, iteration: 41\n",
      "\n",
      "--------------------------------------------------------------\n",
      "\n",
      "Using gradient descent => Coef: 8.485193012717469e+158, Intercept: 2.5319717190249545e+155\n",
      "Using sklearn => Coef: [135.78767123], Intercept: 180616.43835616432\n"
     ]
    },
    {
     "name": "stderr",
     "output_type": "stream",
     "text": [
      "C:\\Users\\chirag\\AppData\\Local\\Temp\\ipykernel_10312\\120122541.py:17: RuntimeWarning: overflow encountered in scalar power\n",
      "  cost = (1/n)*sum([value**2 for value in (y-y_predicted)])\n"
     ]
    }
   ],
   "source": [
    "if __name__ == \"__main__\": \n",
    "   df = pd.read_csv(\"homeprices_uni.csv\") \n",
    "   x = np.array(df.area) \n",
    "   y = np.array(df.price)\n",
    "   m, b = gradient_descent(x,y)\n",
    "\n",
    "   print(\"\\n--------------------------------------------------------------\\n\")\n",
    "\n",
    "   print(\"Using gradient descent => Coef: {}, Intercept: {}\".format(m, b))\n",
    "\n",
    "   m_sklearn, b_sklearn = predict_using_sklearn()\n",
    "   print(\"Using sklearn => Coef: {}, Intercept: {}\".format(m_sklearn,b_sklearn))"
   ]
  },
  {
   "cell_type": "code",
   "execution_count": 59,
   "metadata": {},
   "outputs": [
    {
     "name": "stdout",
     "output_type": "stream",
     "text": [
      "<class 'pandas.core.frame.DataFrame'>\n",
      "RangeIndex: 5 entries, 0 to 4\n",
      "Data columns (total 2 columns):\n",
      " #   Column  Non-Null Count  Dtype\n",
      "---  ------  --------------  -----\n",
      " 0   area    5 non-null      int64\n",
      " 1   price   5 non-null      int64\n",
      "dtypes: int64(2)\n",
      "memory usage: 212.0 bytes\n"
     ]
    }
   ],
   "source": [
    "df.info()"
   ]
  }
 ],
 "metadata": {
  "kernelspec": {
   "display_name": "Python 3",
   "language": "python",
   "name": "python3"
  },
  "language_info": {
   "codemirror_mode": {
    "name": "ipython",
    "version": 3
   },
   "file_extension": ".py",
   "mimetype": "text/x-python",
   "name": "python",
   "nbconvert_exporter": "python",
   "pygments_lexer": "ipython3",
   "version": "3.12.3"
  }
 },
 "nbformat": 4,
 "nbformat_minor": 2
}
